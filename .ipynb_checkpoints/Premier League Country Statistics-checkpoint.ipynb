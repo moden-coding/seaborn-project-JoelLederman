{
 "cells": [
  {
   "cell_type": "markdown",
   "id": "770df2a2",
   "metadata": {
    "id": "770df2a2"
   },
   "source": [
    "# ____ Analysis"
   ]
  },
  {
   "cell_type": "markdown",
   "id": "frC2lzzzZij3",
   "metadata": {
    "id": "frC2lzzzZij3"
   },
   "source": [
    "## Your research question:\n",
    "[Complete this based on your chosen data set]\n",
    "\n"
   ]
  },
  {
   "cell_type": "code",
   "execution_count": null,
   "id": "8_225va5aqZY",
   "metadata": {
    "id": "8_225va5aqZY"
   },
   "outputs": [],
   "source": [
    "import pandas as pd\n",
    "import seaborn as sns\n",
    "import matplotlib.pyplot as plt\n",
    "\n",
    "nba_data = pd.read_csv(\"\") # Talk with Mr. Moden about how to get access to your data"
   ]
  },
  {
   "cell_type": "markdown",
   "id": "Zmox-zkAbR_R",
   "metadata": {
    "id": "Zmox-zkAbR_R"
   },
   "source": [
    "## Part 1: Get a sense of the data\n",
    "Before you start doing anything with you data, you need to get a sense of what the data contains. Considering using .info(), .describe(), .columns, or other tools to get a sense of the data. You can reference ChatGPT if you are looking for other options."
   ]
  },
  {
   "cell_type": "code",
   "execution_count": null,
   "id": "KEPTykvSTBGF",
   "metadata": {
    "id": "KEPTykvSTBGF"
   },
   "outputs": [],
   "source": []
  },
  {
   "cell_type": "code",
   "execution_count": null,
   "id": "qQB7VTOUbsKH",
   "metadata": {
    "id": "qQB7VTOUbsKH"
   },
   "outputs": [],
   "source": [
    "#Write your code here."
   ]
  },
  {
   "cell_type": "markdown",
   "id": "TryxaCwrbsdM",
   "metadata": {
    "id": "TryxaCwrbsdM"
   },
   "source": [
    "## Explanation\n",
    "In the space below, explain what you found from your code"
   ]
  },
  {
   "cell_type": "markdown",
   "id": "R3K_-ss_bz0u",
   "metadata": {
    "id": "R3K_-ss_bz0u"
   },
   "source": [
    "### Write your response in this space."
   ]
  },
  {
   "cell_type": "markdown",
   "id": "Ka34AlcRb0Ev",
   "metadata": {
    "id": "Ka34AlcRb0Ev"
   },
   "source": [
    "## Part 2: Data Cleaning\n",
    "Look for missing data. If you decide to drop rows or columns, explain your choice."
   ]
  },
  {
   "cell_type": "code",
   "execution_count": null,
   "id": "JtKu4-hrb-Bn",
   "metadata": {
    "id": "JtKu4-hrb-Bn"
   },
   "outputs": [],
   "source": [
    "#Write your code here"
   ]
  },
  {
   "cell_type": "markdown",
   "id": "eRsna_MUb-iL",
   "metadata": {
    "id": "eRsna_MUb-iL"
   },
   "source": [
    "Did you drop columns or rows? If so, explain why. If not, explain why not."
   ]
  },
  {
   "cell_type": "markdown",
   "id": "BR5G07SpcDYw",
   "metadata": {
    "id": "BR5G07SpcDYw"
   },
   "source": [
    "### Write your response in this space."
   ]
  },
  {
   "cell_type": "markdown",
   "id": "am0jNBk_cFV3",
   "metadata": {
    "id": "am0jNBk_cFV3"
   },
   "source": [
    "## Part 3: Data manipulation\n",
    "Use groupby to analyze data and get a better understanding of potential trends. For example, if you want to look at scoring likelihood, you might group teams by whether they were home or away or you could group them by team. You should be using groupby on categorical data, not on numerical data (ask me why if you aren't sure)."
   ]
  },
  {
   "cell_type": "code",
   "execution_count": null,
   "id": "l1t-HXWrc6YQ",
   "metadata": {
    "id": "l1t-HXWrc6YQ"
   },
   "outputs": [],
   "source": [
    "#Write your code here"
   ]
  },
  {
   "cell_type": "markdown",
   "id": "uOXOc6gvc6j5",
   "metadata": {
    "id": "uOXOc6gvc6j5"
   },
   "source": [
    "### Write your response in this space."
   ]
  },
  {
   "cell_type": "markdown",
   "id": "ywof0d0EdDrT",
   "metadata": {
    "id": "ywof0d0EdDrT"
   },
   "source": [
    "# Part 4: Data Visualization"
   ]
  },
  {
   "cell_type": "markdown",
   "id": "-sCrM0FCdTPl",
   "metadata": {
    "id": "-sCrM0FCdTPl"
   },
   "source": [
    "## Plot distribution of individual variables\n",
    "Use histograms, KDE plots, box plots, and violin plots (choose 1 - 2) to show the distribution of data within 3 selected numerical columns. Be sure to include histograms to identify outliers"
   ]
  },
  {
   "cell_type": "code",
   "execution_count": null,
   "id": "T5JpD3U_do1S",
   "metadata": {
    "id": "T5JpD3U_do1S"
   },
   "outputs": [],
   "source": [
    "#Write code here"
   ]
  },
  {
   "cell_type": "markdown",
   "id": "OSjBB8AvfWp-",
   "metadata": {
    "id": "OSjBB8AvfWp-"
   },
   "source": [
    "Do you need to remove any outliers"
   ]
  },
  {
   "cell_type": "markdown",
   "id": "K_HcpGvxdrb8",
   "metadata": {
    "id": "K_HcpGvxdrb8"
   },
   "source": [
    "## Correlations\n",
    "Use heatmaps to find interesting correlations between data. Keep in mind that you can only use a heatmap on numerical data."
   ]
  },
  {
   "cell_type": "markdown",
   "id": "LXiruxeDfJ05",
   "metadata": {
    "id": "LXiruxeDfJ05"
   },
   "source": [
    "## Relationships\n",
    "Focus in on relationships. Create relplots, scatter plots, pairplots, and jointplots to showcase any relationships that you see within the data. Create a comprehensive exploration of the data."
   ]
  },
  {
   "cell_type": "code",
   "execution_count": null,
   "id": "XkOVbrMQfQAK",
   "metadata": {
    "id": "XkOVbrMQfQAK"
   },
   "outputs": [],
   "source": [
    "#Write code here"
   ]
  },
  {
   "cell_type": "markdown",
   "id": "ysAoklOZgCE8",
   "metadata": {
    "id": "ysAoklOZgCE8"
   },
   "source": [
    "For each group, write a short description of your findings."
   ]
  },
  {
   "cell_type": "markdown",
   "id": "YRFc6s6tgFVo",
   "metadata": {
    "id": "YRFc6s6tgFVo"
   },
   "source": [
    "## Conclusion\n",
    "Based on everything, you explored write a summary of your findings. Include graphs to support your argument."
   ]
  }
 ],
 "metadata": {
  "colab": {
   "provenance": []
  },
  "kernelspec": {
   "display_name": "Python 3 (ipykernel)",
   "language": "python",
   "name": "python3"
  },
  "language_info": {
   "codemirror_mode": {
    "name": "ipython",
    "version": 3
   },
   "file_extension": ".py",
   "mimetype": "text/x-python",
   "name": "python",
   "nbconvert_exporter": "python",
   "pygments_lexer": "ipython3",
   "version": "3.11.4"
  }
 },
 "nbformat": 4,
 "nbformat_minor": 5
}
